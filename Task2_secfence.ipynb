{
  "cells": [
    {
      "cell_type": "code",
      "execution_count": 1,
      "metadata": {
        "colab": {
          "base_uri": "https://localhost:8080/"
        },
        "id": "d48_H1EO6tbH",
        "outputId": "fa6abb0c-11e1-445f-8ea7-1c9c20cba8b2"
      },
      "outputs": [
        {
          "name": "stdout",
          "output_type": "stream",
          "text": [
            "Collecting keras-tuner\n",
            "  Downloading keras_tuner-1.4.7-py3-none-any.whl.metadata (5.4 kB)\n",
            "Requirement already satisfied: keras in /usr/local/lib/python3.11/dist-packages (from keras-tuner) (3.5.0)\n",
            "Requirement already satisfied: packaging in /usr/local/lib/python3.11/dist-packages (from keras-tuner) (24.2)\n",
            "Requirement already satisfied: requests in /usr/local/lib/python3.11/dist-packages (from keras-tuner) (2.32.3)\n",
            "Collecting kt-legacy (from keras-tuner)\n",
            "  Downloading kt_legacy-1.0.5-py3-none-any.whl.metadata (221 bytes)\n",
            "Requirement already satisfied: absl-py in /usr/local/lib/python3.11/dist-packages (from keras->keras-tuner) (1.4.0)\n",
            "Requirement already satisfied: numpy in /usr/local/lib/python3.11/dist-packages (from keras->keras-tuner) (1.26.4)\n",
            "Requirement already satisfied: rich in /usr/local/lib/python3.11/dist-packages (from keras->keras-tuner) (13.9.4)\n",
            "Requirement already satisfied: namex in /usr/local/lib/python3.11/dist-packages (from keras->keras-tuner) (0.0.8)\n",
            "Requirement already satisfied: h5py in /usr/local/lib/python3.11/dist-packages (from keras->keras-tuner) (3.12.1)\n",
            "Requirement already satisfied: optree in /usr/local/lib/python3.11/dist-packages (from keras->keras-tuner) (0.14.0)\n",
            "Requirement already satisfied: ml-dtypes in /usr/local/lib/python3.11/dist-packages (from keras->keras-tuner) (0.4.1)\n",
            "Requirement already satisfied: charset-normalizer<4,>=2 in /usr/local/lib/python3.11/dist-packages (from requests->keras-tuner) (3.4.1)\n",
            "Requirement already satisfied: idna<4,>=2.5 in /usr/local/lib/python3.11/dist-packages (from requests->keras-tuner) (3.10)\n",
            "Requirement already satisfied: urllib3<3,>=1.21.1 in /usr/local/lib/python3.11/dist-packages (from requests->keras-tuner) (2.3.0)\n",
            "Requirement already satisfied: certifi>=2017.4.17 in /usr/local/lib/python3.11/dist-packages (from requests->keras-tuner) (2024.12.14)\n",
            "Requirement already satisfied: typing-extensions>=4.5.0 in /usr/local/lib/python3.11/dist-packages (from optree->keras->keras-tuner) (4.12.2)\n",
            "Requirement already satisfied: markdown-it-py>=2.2.0 in /usr/local/lib/python3.11/dist-packages (from rich->keras->keras-tuner) (3.0.0)\n",
            "Requirement already satisfied: pygments<3.0.0,>=2.13.0 in /usr/local/lib/python3.11/dist-packages (from rich->keras->keras-tuner) (2.18.0)\n",
            "Requirement already satisfied: mdurl~=0.1 in /usr/local/lib/python3.11/dist-packages (from markdown-it-py>=2.2.0->rich->keras->keras-tuner) (0.1.2)\n",
            "Downloading keras_tuner-1.4.7-py3-none-any.whl (129 kB)\n",
            "\u001b[2K   \u001b[90m━━━━━━━━━━━━━━━━━━━━━━━━━━━━━━━━━━━━━━━━\u001b[0m \u001b[32m129.1/129.1 kB\u001b[0m \u001b[31m4.8 MB/s\u001b[0m eta \u001b[36m0:00:00\u001b[0m\n",
            "\u001b[?25hDownloading kt_legacy-1.0.5-py3-none-any.whl (9.6 kB)\n",
            "Installing collected packages: kt-legacy, keras-tuner\n",
            "Successfully installed keras-tuner-1.4.7 kt-legacy-1.0.5\n"
          ]
        }
      ],
      "source": [
        "!pip install keras-tuner"
      ]
    },
    {
      "cell_type": "code",
      "execution_count": 2,
      "metadata": {
        "id": "wp5TFT179_Pc"
      },
      "outputs": [],
      "source": [
        "import os\n",
        "import random\n",
        "import shutil\n",
        "import numpy as np\n",
        "from PIL import Image\n",
        "import tensorflow as tf\n",
        "from sklearn.utils.class_weight import compute_class_weight\n",
        "from sklearn.metrics import classification_report, roc_auc_score\n",
        "from tensorflow.keras.applications import ResNet50, MobileNet\n",
        "from tensorflow.keras.models import Sequential, load_model\n",
        "from tensorflow.keras.layers import GlobalAveragePooling2D, Dense, Dropout\n",
        "from tensorflow.keras.preprocessing.image import ImageDataGenerator\n",
        "from tensorflow.keras.callbacks import EarlyStopping, ReduceLROnPlateau\n",
        "from tensorflow.keras.optimizers import Adam\n",
        "from tensorflow.keras.regularizers import l2\n",
        "from keras_tuner import Hyperband"
      ]
    },
    {
      "cell_type": "code",
      "execution_count": 4,
      "metadata": {
        "colab": {
          "base_uri": "https://localhost:8080/"
        },
        "id": "1syhXxBJzoAc",
        "outputId": "e8cb1d78-937f-4511-a4cf-4c1f926d249e"
      },
      "outputs": [
        {
          "name": "stdout",
          "output_type": "stream",
          "text": [
            "Mounted at /content/drive\n"
          ]
        }
      ],
      "source": [
        "from google.colab import drive\n",
        "drive.mount('/content/drive')"
      ]
    },
    {
      "cell_type": "code",
      "execution_count": 5,
      "metadata": {
        "colab": {
          "base_uri": "https://localhost:8080/"
        },
        "id": "atWfmAHv-K7O",
        "outputId": "61549978-9afe-40c2-8863-ca8cbe4d98a7"
      },
      "outputs": [
        {
          "name": "stdout",
          "output_type": "stream",
          "text": [
            "transaction-yes-no/Yes/❾❻⓿❼⓿❶❽❽❶❺  Wonder Loan Customer care helpline number_9607018815 - Copy.jpg:  mismatching \"local\" filename (transaction-yes-no/Yes/тЭ╛тЭ╗тУ┐тЭ╝тУ┐тЭ╢тЭ╜тЭ╜тЭ╢тЭ║  Wonder Loan Customer care helpline number_9607018815 - Copy.jpg),\n",
            "         continuing with \"central\" filename version\n",
            "transaction-yes-no/Yes/❾❻⓿❼⓿❶❽❽❶❺  Wonder Loan Customer care helpline number_9607018815.jpg:  mismatching \"local\" filename (transaction-yes-no/Yes/тЭ╛тЭ╗тУ┐тЭ╝тУ┐тЭ╢тЭ╜тЭ╜тЭ╢тЭ║  Wonder Loan Customer care helpline number_9607018815.jpg),\n",
            "         continuing with \"central\" filename version\n"
          ]
        }
      ],
      "source": [
        "!unzip -q /content/drive/MyDrive/transaction-yes-no.zip -d /content/"
      ]
    },
    {
      "cell_type": "code",
      "execution_count": 6,
      "metadata": {
        "id": "1yR7FSyC-g4m"
      },
      "outputs": [],
      "source": [
        "# Paths\n",
        "DATASET_DIR = \"/content/transaction-yes-no/\"\n",
        "TRAIN_DIR = \"/content/transaction-yes-no/train/\"\n",
        "TEST_DIR = \"/content/transaction-yes-no/test/\""
      ]
    },
    {
      "cell_type": "code",
      "execution_count": 7,
      "metadata": {
        "id": "fiMwESZx02bW"
      },
      "outputs": [],
      "source": [
        "MODEL_SAVE_DIR = \"/content/saved_models\"\n",
        "os.makedirs(MODEL_SAVE_DIR, exist_ok=True)"
      ]
    },
    {
      "cell_type": "code",
      "execution_count": 8,
      "metadata": {
        "id": "OSIIXhjd-i5H"
      },
      "outputs": [],
      "source": [
        "# Ensure directory structure exists\n",
        "for split_dir in [TRAIN_DIR, TEST_DIR]:\n",
        "    for class_name in ['Yes', 'No']:\n",
        "        os.makedirs(os.path.join(split_dir, class_name), exist_ok=True)"
      ]
    },
    {
      "cell_type": "code",
      "execution_count": 9,
      "metadata": {
        "id": "UXB-lu9D-o5u"
      },
      "outputs": [],
      "source": [
        "# Count images\n",
        "def count_images(directory):\n",
        "    return len([f for f in os.listdir(directory) if f.lower().endswith(('jpg', 'jpeg', 'png'))])"
      ]
    },
    {
      "cell_type": "code",
      "execution_count": 10,
      "metadata": {
        "id": "fknI0mIA-qvY"
      },
      "outputs": [],
      "source": [
        "# Split data function\n",
        "def split_data(source_dir, train_dir, test_dir, train_ratio=0.8):\n",
        "    for class_name in ['Yes', 'No']:\n",
        "        class_path = os.path.join(source_dir, class_name)\n",
        "        images = os.listdir(class_path)\n",
        "        random.shuffle(images)\n",
        "\n",
        "        split_index = int(len(images) * train_ratio)\n",
        "        train_images = images[:split_index]\n",
        "        test_images = images[split_index:]\n",
        "\n",
        "        for img in train_images:\n",
        "            shutil.copy(os.path.join(class_path, img), os.path.join(train_dir, class_name, img))\n",
        "\n",
        "        for img in test_images:\n",
        "            shutil.copy(os.path.join(class_path, img), os.path.join(test_dir, class_name, img))\n",
        "\n",
        "split_data(DATASET_DIR, TRAIN_DIR, TEST_DIR, train_ratio=0.8)"
      ]
    },
    {
      "cell_type": "code",
      "execution_count": 11,
      "metadata": {
        "id": "prYdVYu3-tva"
      },
      "outputs": [],
      "source": [
        "# Data augmentation function\n",
        "def augment_class(class_dir, target_count):\n",
        "    datagen = ImageDataGenerator(\n",
        "        rotation_range=30,\n",
        "        width_shift_range=0.2,\n",
        "        height_shift_range=0.2,\n",
        "        shear_range=0.2,\n",
        "        zoom_range=0.2,\n",
        "        horizontal_flip=True,\n",
        "        brightness_range=[0.8, 1.2],\n",
        "        fill_mode='nearest'\n",
        "    )\n",
        "\n",
        "    images = [f for f in os.listdir(class_dir) if f.lower().endswith(('jpg', 'jpeg', 'png'))]\n",
        "    current_count = len(images)\n",
        "\n",
        "    while current_count < target_count:\n",
        "        img_name = random.choice(images)\n",
        "        img_path = os.path.join(class_dir, img_name)\n",
        "        img = Image.open(img_path).convert('RGB')\n",
        "        img_array = np.expand_dims(np.array(img) / 255.0, axis=0)\n",
        "\n",
        "        for batch in datagen.flow(img_array, batch_size=1, save_to_dir=class_dir, save_format='jpeg'):\n",
        "            current_count += 1\n",
        "            if current_count >= target_count:\n",
        "                break"
      ]
    },
    {
      "cell_type": "code",
      "execution_count": 12,
      "metadata": {
        "id": "tZeCKqcp-xrk"
      },
      "outputs": [],
      "source": [
        "# Undersampling for majority class\n",
        "def undersample_class(class_dir, target_count):\n",
        "    images = [f for f in os.listdir(class_dir) if f.lower().endswith(('jpg', 'jpeg', 'png'))]\n",
        "    random.shuffle(images)\n",
        "\n",
        "    for img_name in images[target_count:]:\n",
        "        img_path = os.path.join(class_dir, img_name)\n",
        "        os.remove(img_path)"
      ]
    },
    {
      "cell_type": "code",
      "execution_count": 13,
      "metadata": {
        "colab": {
          "base_uri": "https://localhost:8080/"
        },
        "id": "quIeC7gd-zqm",
        "outputId": "ef92f0e6-1543-4cba-d278-1ed9b2dd2300"
      },
      "outputs": [
        {
          "name": "stdout",
          "output_type": "stream",
          "text": [
            "Before balancing: Yes = 1121, No = 2837\n"
          ]
        }
      ],
      "source": [
        "# Balance dataset\n",
        "train_yes_dir = os.path.join(TRAIN_DIR, 'Yes')\n",
        "train_no_dir = os.path.join(TRAIN_DIR, 'No')\n",
        "\n",
        "yes_count = count_images(train_yes_dir)\n",
        "no_count = count_images(train_no_dir)\n",
        "\n",
        "print(f\"Before balancing: Yes = {yes_count}, No = {no_count}\")"
      ]
    },
    {
      "cell_type": "code",
      "execution_count": 14,
      "metadata": {
        "colab": {
          "base_uri": "https://localhost:8080/"
        },
        "id": "J0hhF5LW-1y5",
        "outputId": "4825ecbe-9d5a-4457-8cd2-8acf931d42c2"
      },
      "outputs": [
        {
          "name": "stdout",
          "output_type": "stream",
          "text": [
            "After balancing: Yes = 2719, No = 2837\n"
          ]
        }
      ],
      "source": [
        "target_count = max(yes_count, no_count)\n",
        "augment_class(train_yes_dir, target_count)\n",
        "undersample_class(train_no_dir, target_count)\n",
        "\n",
        "yes_count = count_images(train_yes_dir)\n",
        "no_count = count_images(train_no_dir)\n",
        "\n",
        "print(f\"After balancing: Yes = {yes_count}, No = {no_count}\")"
      ]
    },
    {
      "cell_type": "code",
      "execution_count": 15,
      "metadata": {
        "id": "J_QeR2s8-4ZY"
      },
      "outputs": [],
      "source": [
        "# Data generators\n",
        "IMG_SIZE = (128, 128)\n",
        "BATCH_SIZE = 32\n",
        "\n",
        "train_datagen = ImageDataGenerator(rescale=1.0 / 255)\n",
        "test_datagen = ImageDataGenerator(rescale=1.0 / 255)"
      ]
    },
    {
      "cell_type": "code",
      "execution_count": 16,
      "metadata": {
        "colab": {
          "base_uri": "https://localhost:8080/"
        },
        "id": "HIjUjU_S-6ta",
        "outputId": "fc0a1ced-fd42-45b2-fade-a92f1f164bb4"
      },
      "outputs": [
        {
          "name": "stdout",
          "output_type": "stream",
          "text": [
            "Found 5556 images belonging to 2 classes.\n",
            "Found 990 images belonging to 2 classes.\n"
          ]
        }
      ],
      "source": [
        "\n",
        "train_generator = train_datagen.flow_from_directory(\n",
        "    TRAIN_DIR,\n",
        "    target_size=IMG_SIZE,\n",
        "    batch_size=BATCH_SIZE,\n",
        "    class_mode='binary'\n",
        ")\n",
        "\n",
        "test_generator = test_datagen.flow_from_directory(\n",
        "    TEST_DIR,\n",
        "    target_size=IMG_SIZE,\n",
        "    batch_size=BATCH_SIZE,\n",
        "    class_mode='binary'\n",
        ")"
      ]
    },
    {
      "cell_type": "code",
      "execution_count": 17,
      "metadata": {
        "id": "XQAmw7pJ-9Ld"
      },
      "outputs": [],
      "source": [
        "# Compute class weights\n",
        "class_weights = compute_class_weight(\n",
        "    class_weight='balanced',\n",
        "    classes=np.unique(train_generator.classes),\n",
        "    y=train_generator.classes\n",
        ")\n",
        "class_weights = dict(enumerate(class_weights))"
      ]
    },
    {
      "cell_type": "code",
      "execution_count": 18,
      "metadata": {
        "id": "fV2dr93O5yyb"
      },
      "outputs": [],
      "source": [
        "# resolver = tf.distribute.cluster_resolver.TPUClusterResolver(tpu='')\n",
        "# tf.config.experimental_connect_to_cluster(resolver)\n",
        "# tf.tpu.experimental.initialize_tpu_system(resolver)\n",
        "# strategy = tf.distribute.TPUStrategy(resolver)"
      ]
    },
    {
      "cell_type": "code",
      "execution_count": 19,
      "metadata": {
        "colab": {
          "base_uri": "https://localhost:8080/",
          "height": 436
        },
        "id": "ATLW0Aqo_Bty",
        "outputId": "433b3553-7409-464b-b62a-004a1fa69242"
      },
      "outputs": [
        {
          "name": "stdout",
          "output_type": "stream",
          "text": [
            "Downloading data from https://storage.googleapis.com/tensorflow/keras-applications/resnet/resnet50_weights_tf_dim_ordering_tf_kernels_notop.h5\n",
            "\u001b[1m94765736/94765736\u001b[0m \u001b[32m━━━━━━━━━━━━━━━━━━━━\u001b[0m\u001b[37m\u001b[0m \u001b[1m1s\u001b[0m 0us/step\n"
          ]
        },
        {
          "data": {
            "text/html": [
              "<pre style=\"white-space:pre;overflow-x:auto;line-height:normal;font-family:Menlo,'DejaVu Sans Mono',consolas,'Courier New',monospace\"><span style=\"font-weight: bold\">Model: \"sequential\"</span>\n",
              "</pre>\n"
            ],
            "text/plain": [
              "\u001b[1mModel: \"sequential\"\u001b[0m\n"
            ]
          },
          "metadata": {},
          "output_type": "display_data"
        },
        {
          "data": {
            "text/html": [
              "<pre style=\"white-space:pre;overflow-x:auto;line-height:normal;font-family:Menlo,'DejaVu Sans Mono',consolas,'Courier New',monospace\">┏━━━━━━━━━━━━━━━━━━━━━━━━━━━━━━━━━━━━━━┳━━━━━━━━━━━━━━━━━━━━━━━━━━━━━┳━━━━━━━━━━━━━━━━━┓\n",
              "┃<span style=\"font-weight: bold\"> Layer (type)                         </span>┃<span style=\"font-weight: bold\"> Output Shape                </span>┃<span style=\"font-weight: bold\">         Param # </span>┃\n",
              "┡━━━━━━━━━━━━━━━━━━━━━━━━━━━━━━━━━━━━━━╇━━━━━━━━━━━━━━━━━━━━━━━━━━━━━╇━━━━━━━━━━━━━━━━━┩\n",
              "│ resnet50 (<span style=\"color: #0087ff; text-decoration-color: #0087ff\">Functional</span>)                │ (<span style=\"color: #00d7ff; text-decoration-color: #00d7ff\">None</span>, <span style=\"color: #00af00; text-decoration-color: #00af00\">4</span>, <span style=\"color: #00af00; text-decoration-color: #00af00\">4</span>, <span style=\"color: #00af00; text-decoration-color: #00af00\">2048</span>)          │      <span style=\"color: #00af00; text-decoration-color: #00af00\">23,587,712</span> │\n",
              "├──────────────────────────────────────┼─────────────────────────────┼─────────────────┤\n",
              "│ global_average_pooling2d             │ (<span style=\"color: #00d7ff; text-decoration-color: #00d7ff\">None</span>, <span style=\"color: #00af00; text-decoration-color: #00af00\">2048</span>)                │               <span style=\"color: #00af00; text-decoration-color: #00af00\">0</span> │\n",
              "│ (<span style=\"color: #0087ff; text-decoration-color: #0087ff\">GlobalAveragePooling2D</span>)             │                             │                 │\n",
              "├──────────────────────────────────────┼─────────────────────────────┼─────────────────┤\n",
              "│ dense (<span style=\"color: #0087ff; text-decoration-color: #0087ff\">Dense</span>)                        │ (<span style=\"color: #00d7ff; text-decoration-color: #00d7ff\">None</span>, <span style=\"color: #00af00; text-decoration-color: #00af00\">128</span>)                 │         <span style=\"color: #00af00; text-decoration-color: #00af00\">262,272</span> │\n",
              "├──────────────────────────────────────┼─────────────────────────────┼─────────────────┤\n",
              "│ dropout (<span style=\"color: #0087ff; text-decoration-color: #0087ff\">Dropout</span>)                    │ (<span style=\"color: #00d7ff; text-decoration-color: #00d7ff\">None</span>, <span style=\"color: #00af00; text-decoration-color: #00af00\">128</span>)                 │               <span style=\"color: #00af00; text-decoration-color: #00af00\">0</span> │\n",
              "├──────────────────────────────────────┼─────────────────────────────┼─────────────────┤\n",
              "│ dense_1 (<span style=\"color: #0087ff; text-decoration-color: #0087ff\">Dense</span>)                      │ (<span style=\"color: #00d7ff; text-decoration-color: #00d7ff\">None</span>, <span style=\"color: #00af00; text-decoration-color: #00af00\">64</span>)                  │           <span style=\"color: #00af00; text-decoration-color: #00af00\">8,256</span> │\n",
              "├──────────────────────────────────────┼─────────────────────────────┼─────────────────┤\n",
              "│ dropout_1 (<span style=\"color: #0087ff; text-decoration-color: #0087ff\">Dropout</span>)                  │ (<span style=\"color: #00d7ff; text-decoration-color: #00d7ff\">None</span>, <span style=\"color: #00af00; text-decoration-color: #00af00\">64</span>)                  │               <span style=\"color: #00af00; text-decoration-color: #00af00\">0</span> │\n",
              "├──────────────────────────────────────┼─────────────────────────────┼─────────────────┤\n",
              "│ dense_2 (<span style=\"color: #0087ff; text-decoration-color: #0087ff\">Dense</span>)                      │ (<span style=\"color: #00d7ff; text-decoration-color: #00d7ff\">None</span>, <span style=\"color: #00af00; text-decoration-color: #00af00\">1</span>)                   │              <span style=\"color: #00af00; text-decoration-color: #00af00\">65</span> │\n",
              "└──────────────────────────────────────┴─────────────────────────────┴─────────────────┘\n",
              "</pre>\n"
            ],
            "text/plain": [
              "┏━━━━━━━━━━━━━━━━━━━━━━━━━━━━━━━━━━━━━━┳━━━━━━━━━━━━━━━━━━━━━━━━━━━━━┳━━━━━━━━━━━━━━━━━┓\n",
              "┃\u001b[1m \u001b[0m\u001b[1mLayer (type)                        \u001b[0m\u001b[1m \u001b[0m┃\u001b[1m \u001b[0m\u001b[1mOutput Shape               \u001b[0m\u001b[1m \u001b[0m┃\u001b[1m \u001b[0m\u001b[1m        Param #\u001b[0m\u001b[1m \u001b[0m┃\n",
              "┡━━━━━━━━━━━━━━━━━━━━━━━━━━━━━━━━━━━━━━╇━━━━━━━━━━━━━━━━━━━━━━━━━━━━━╇━━━━━━━━━━━━━━━━━┩\n",
              "│ resnet50 (\u001b[38;5;33mFunctional\u001b[0m)                │ (\u001b[38;5;45mNone\u001b[0m, \u001b[38;5;34m4\u001b[0m, \u001b[38;5;34m4\u001b[0m, \u001b[38;5;34m2048\u001b[0m)          │      \u001b[38;5;34m23,587,712\u001b[0m │\n",
              "├──────────────────────────────────────┼─────────────────────────────┼─────────────────┤\n",
              "│ global_average_pooling2d             │ (\u001b[38;5;45mNone\u001b[0m, \u001b[38;5;34m2048\u001b[0m)                │               \u001b[38;5;34m0\u001b[0m │\n",
              "│ (\u001b[38;5;33mGlobalAveragePooling2D\u001b[0m)             │                             │                 │\n",
              "├──────────────────────────────────────┼─────────────────────────────┼─────────────────┤\n",
              "│ dense (\u001b[38;5;33mDense\u001b[0m)                        │ (\u001b[38;5;45mNone\u001b[0m, \u001b[38;5;34m128\u001b[0m)                 │         \u001b[38;5;34m262,272\u001b[0m │\n",
              "├──────────────────────────────────────┼─────────────────────────────┼─────────────────┤\n",
              "│ dropout (\u001b[38;5;33mDropout\u001b[0m)                    │ (\u001b[38;5;45mNone\u001b[0m, \u001b[38;5;34m128\u001b[0m)                 │               \u001b[38;5;34m0\u001b[0m │\n",
              "├──────────────────────────────────────┼─────────────────────────────┼─────────────────┤\n",
              "│ dense_1 (\u001b[38;5;33mDense\u001b[0m)                      │ (\u001b[38;5;45mNone\u001b[0m, \u001b[38;5;34m64\u001b[0m)                  │           \u001b[38;5;34m8,256\u001b[0m │\n",
              "├──────────────────────────────────────┼─────────────────────────────┼─────────────────┤\n",
              "│ dropout_1 (\u001b[38;5;33mDropout\u001b[0m)                  │ (\u001b[38;5;45mNone\u001b[0m, \u001b[38;5;34m64\u001b[0m)                  │               \u001b[38;5;34m0\u001b[0m │\n",
              "├──────────────────────────────────────┼─────────────────────────────┼─────────────────┤\n",
              "│ dense_2 (\u001b[38;5;33mDense\u001b[0m)                      │ (\u001b[38;5;45mNone\u001b[0m, \u001b[38;5;34m1\u001b[0m)                   │              \u001b[38;5;34m65\u001b[0m │\n",
              "└──────────────────────────────────────┴─────────────────────────────┴─────────────────┘\n"
            ]
          },
          "metadata": {},
          "output_type": "display_data"
        },
        {
          "data": {
            "text/html": [
              "<pre style=\"white-space:pre;overflow-x:auto;line-height:normal;font-family:Menlo,'DejaVu Sans Mono',consolas,'Courier New',monospace\"><span style=\"font-weight: bold\"> Total params: </span><span style=\"color: #00af00; text-decoration-color: #00af00\">23,858,305</span> (91.01 MB)\n",
              "</pre>\n"
            ],
            "text/plain": [
              "\u001b[1m Total params: \u001b[0m\u001b[38;5;34m23,858,305\u001b[0m (91.01 MB)\n"
            ]
          },
          "metadata": {},
          "output_type": "display_data"
        },
        {
          "data": {
            "text/html": [
              "<pre style=\"white-space:pre;overflow-x:auto;line-height:normal;font-family:Menlo,'DejaVu Sans Mono',consolas,'Courier New',monospace\"><span style=\"font-weight: bold\"> Trainable params: </span><span style=\"color: #00af00; text-decoration-color: #00af00\">270,593</span> (1.03 MB)\n",
              "</pre>\n"
            ],
            "text/plain": [
              "\u001b[1m Trainable params: \u001b[0m\u001b[38;5;34m270,593\u001b[0m (1.03 MB)\n"
            ]
          },
          "metadata": {},
          "output_type": "display_data"
        },
        {
          "data": {
            "text/html": [
              "<pre style=\"white-space:pre;overflow-x:auto;line-height:normal;font-family:Menlo,'DejaVu Sans Mono',consolas,'Courier New',monospace\"><span style=\"font-weight: bold\"> Non-trainable params: </span><span style=\"color: #00af00; text-decoration-color: #00af00\">23,587,712</span> (89.98 MB)\n",
              "</pre>\n"
            ],
            "text/plain": [
              "\u001b[1m Non-trainable params: \u001b[0m\u001b[38;5;34m23,587,712\u001b[0m (89.98 MB)\n"
            ]
          },
          "metadata": {},
          "output_type": "display_data"
        }
      ],
      "source": [
        "# Define model with ResNet50 as backbone\n",
        "with tf.distribute.get_strategy().scope():\n",
        "    base_model_resnet = ResNet50(include_top=False, input_shape=(IMG_SIZE[0], IMG_SIZE[1], 3), weights='imagenet')\n",
        "    base_model_resnet.trainable = False \n",
        "\n",
        "    model_resnet = Sequential([\n",
        "        base_model_resnet,\n",
        "        GlobalAveragePooling2D(),\n",
        "        Dense(128, activation='relu', kernel_regularizer=l2(0.001)),\n",
        "        Dropout(0.4),\n",
        "        Dense(64, activation='relu', kernel_regularizer=l2(0.001)),\n",
        "        Dropout(0.4),\n",
        "        Dense(1, activation='sigmoid')\n",
        "    ])\n",
        "\n",
        "    model_resnet.compile(\n",
        "        optimizer=Adam(learning_rate=0.0001),\n",
        "        loss='binary_crossentropy',\n",
        "        metrics=['accuracy']\n",
        "    )\n",
        "\n",
        "model_resnet.summary()"
      ]
    },
    {
      "cell_type": "code",
      "execution_count": 20,
      "metadata": {
        "colab": {
          "base_uri": "https://localhost:8080/",
          "height": 416
        },
        "id": "E_tu4H8UzRfp",
        "outputId": "a8141cdc-fd58-4ae8-98f4-813bf0824bc2"
      },
      "outputs": [
        {
          "name": "stdout",
          "output_type": "stream",
          "text": [
            "Downloading data from https://storage.googleapis.com/tensorflow/keras-applications/mobilenet/mobilenet_1_0_128_tf_no_top.h5\n",
            "\u001b[1m17225924/17225924\u001b[0m \u001b[32m━━━━━━━━━━━━━━━━━━━━\u001b[0m\u001b[37m\u001b[0m \u001b[1m0s\u001b[0m 0us/step\n"
          ]
        },
        {
          "data": {
            "text/html": [
              "<pre style=\"white-space:pre;overflow-x:auto;line-height:normal;font-family:Menlo,'DejaVu Sans Mono',consolas,'Courier New',monospace\"><span style=\"font-weight: bold\">Model: \"sequential_1\"</span>\n",
              "</pre>\n"
            ],
            "text/plain": [
              "\u001b[1mModel: \"sequential_1\"\u001b[0m\n"
            ]
          },
          "metadata": {},
          "output_type": "display_data"
        },
        {
          "data": {
            "text/html": [
              "<pre style=\"white-space:pre;overflow-x:auto;line-height:normal;font-family:Menlo,'DejaVu Sans Mono',consolas,'Courier New',monospace\">┏━━━━━━━━━━━━━━━━━━━━━━━━━━━━━━━━━━━━━━┳━━━━━━━━━━━━━━━━━━━━━━━━━━━━━┳━━━━━━━━━━━━━━━━━┓\n",
              "┃<span style=\"font-weight: bold\"> Layer (type)                         </span>┃<span style=\"font-weight: bold\"> Output Shape                </span>┃<span style=\"font-weight: bold\">         Param # </span>┃\n",
              "┡━━━━━━━━━━━━━━━━━━━━━━━━━━━━━━━━━━━━━━╇━━━━━━━━━━━━━━━━━━━━━━━━━━━━━╇━━━━━━━━━━━━━━━━━┩\n",
              "│ mobilenet_1.00_128 (<span style=\"color: #0087ff; text-decoration-color: #0087ff\">Functional</span>)      │ (<span style=\"color: #00d7ff; text-decoration-color: #00d7ff\">None</span>, <span style=\"color: #00af00; text-decoration-color: #00af00\">4</span>, <span style=\"color: #00af00; text-decoration-color: #00af00\">4</span>, <span style=\"color: #00af00; text-decoration-color: #00af00\">1024</span>)          │       <span style=\"color: #00af00; text-decoration-color: #00af00\">3,228,864</span> │\n",
              "├──────────────────────────────────────┼─────────────────────────────┼─────────────────┤\n",
              "│ global_average_pooling2d_1           │ (<span style=\"color: #00d7ff; text-decoration-color: #00d7ff\">None</span>, <span style=\"color: #00af00; text-decoration-color: #00af00\">1024</span>)                │               <span style=\"color: #00af00; text-decoration-color: #00af00\">0</span> │\n",
              "│ (<span style=\"color: #0087ff; text-decoration-color: #0087ff\">GlobalAveragePooling2D</span>)             │                             │                 │\n",
              "├──────────────────────────────────────┼─────────────────────────────┼─────────────────┤\n",
              "│ dense_3 (<span style=\"color: #0087ff; text-decoration-color: #0087ff\">Dense</span>)                      │ (<span style=\"color: #00d7ff; text-decoration-color: #00d7ff\">None</span>, <span style=\"color: #00af00; text-decoration-color: #00af00\">128</span>)                 │         <span style=\"color: #00af00; text-decoration-color: #00af00\">131,200</span> │\n",
              "├──────────────────────────────────────┼─────────────────────────────┼─────────────────┤\n",
              "│ dropout_2 (<span style=\"color: #0087ff; text-decoration-color: #0087ff\">Dropout</span>)                  │ (<span style=\"color: #00d7ff; text-decoration-color: #00d7ff\">None</span>, <span style=\"color: #00af00; text-decoration-color: #00af00\">128</span>)                 │               <span style=\"color: #00af00; text-decoration-color: #00af00\">0</span> │\n",
              "├──────────────────────────────────────┼─────────────────────────────┼─────────────────┤\n",
              "│ dense_4 (<span style=\"color: #0087ff; text-decoration-color: #0087ff\">Dense</span>)                      │ (<span style=\"color: #00d7ff; text-decoration-color: #00d7ff\">None</span>, <span style=\"color: #00af00; text-decoration-color: #00af00\">64</span>)                  │           <span style=\"color: #00af00; text-decoration-color: #00af00\">8,256</span> │\n",
              "├──────────────────────────────────────┼─────────────────────────────┼─────────────────┤\n",
              "│ dropout_3 (<span style=\"color: #0087ff; text-decoration-color: #0087ff\">Dropout</span>)                  │ (<span style=\"color: #00d7ff; text-decoration-color: #00d7ff\">None</span>, <span style=\"color: #00af00; text-decoration-color: #00af00\">64</span>)                  │               <span style=\"color: #00af00; text-decoration-color: #00af00\">0</span> │\n",
              "├──────────────────────────────────────┼─────────────────────────────┼─────────────────┤\n",
              "│ dense_5 (<span style=\"color: #0087ff; text-decoration-color: #0087ff\">Dense</span>)                      │ (<span style=\"color: #00d7ff; text-decoration-color: #00d7ff\">None</span>, <span style=\"color: #00af00; text-decoration-color: #00af00\">1</span>)                   │              <span style=\"color: #00af00; text-decoration-color: #00af00\">65</span> │\n",
              "└──────────────────────────────────────┴─────────────────────────────┴─────────────────┘\n",
              "</pre>\n"
            ],
            "text/plain": [
              "┏━━━━━━━━━━━━━━━━━━━━━━━━━━━━━━━━━━━━━━┳━━━━━━━━━━━━━━━━━━━━━━━━━━━━━┳━━━━━━━━━━━━━━━━━┓\n",
              "┃\u001b[1m \u001b[0m\u001b[1mLayer (type)                        \u001b[0m\u001b[1m \u001b[0m┃\u001b[1m \u001b[0m\u001b[1mOutput Shape               \u001b[0m\u001b[1m \u001b[0m┃\u001b[1m \u001b[0m\u001b[1m        Param #\u001b[0m\u001b[1m \u001b[0m┃\n",
              "┡━━━━━━━━━━━━━━━━━━━━━━━━━━━━━━━━━━━━━━╇━━━━━━━━━━━━━━━━━━━━━━━━━━━━━╇━━━━━━━━━━━━━━━━━┩\n",
              "│ mobilenet_1.00_128 (\u001b[38;5;33mFunctional\u001b[0m)      │ (\u001b[38;5;45mNone\u001b[0m, \u001b[38;5;34m4\u001b[0m, \u001b[38;5;34m4\u001b[0m, \u001b[38;5;34m1024\u001b[0m)          │       \u001b[38;5;34m3,228,864\u001b[0m │\n",
              "├──────────────────────────────────────┼─────────────────────────────┼─────────────────┤\n",
              "│ global_average_pooling2d_1           │ (\u001b[38;5;45mNone\u001b[0m, \u001b[38;5;34m1024\u001b[0m)                │               \u001b[38;5;34m0\u001b[0m │\n",
              "│ (\u001b[38;5;33mGlobalAveragePooling2D\u001b[0m)             │                             │                 │\n",
              "├──────────────────────────────────────┼─────────────────────────────┼─────────────────┤\n",
              "│ dense_3 (\u001b[38;5;33mDense\u001b[0m)                      │ (\u001b[38;5;45mNone\u001b[0m, \u001b[38;5;34m128\u001b[0m)                 │         \u001b[38;5;34m131,200\u001b[0m │\n",
              "├──────────────────────────────────────┼─────────────────────────────┼─────────────────┤\n",
              "│ dropout_2 (\u001b[38;5;33mDropout\u001b[0m)                  │ (\u001b[38;5;45mNone\u001b[0m, \u001b[38;5;34m128\u001b[0m)                 │               \u001b[38;5;34m0\u001b[0m │\n",
              "├──────────────────────────────────────┼─────────────────────────────┼─────────────────┤\n",
              "│ dense_4 (\u001b[38;5;33mDense\u001b[0m)                      │ (\u001b[38;5;45mNone\u001b[0m, \u001b[38;5;34m64\u001b[0m)                  │           \u001b[38;5;34m8,256\u001b[0m │\n",
              "├──────────────────────────────────────┼─────────────────────────────┼─────────────────┤\n",
              "│ dropout_3 (\u001b[38;5;33mDropout\u001b[0m)                  │ (\u001b[38;5;45mNone\u001b[0m, \u001b[38;5;34m64\u001b[0m)                  │               \u001b[38;5;34m0\u001b[0m │\n",
              "├──────────────────────────────────────┼─────────────────────────────┼─────────────────┤\n",
              "│ dense_5 (\u001b[38;5;33mDense\u001b[0m)                      │ (\u001b[38;5;45mNone\u001b[0m, \u001b[38;5;34m1\u001b[0m)                   │              \u001b[38;5;34m65\u001b[0m │\n",
              "└──────────────────────────────────────┴─────────────────────────────┴─────────────────┘\n"
            ]
          },
          "metadata": {},
          "output_type": "display_data"
        },
        {
          "data": {
            "text/html": [
              "<pre style=\"white-space:pre;overflow-x:auto;line-height:normal;font-family:Menlo,'DejaVu Sans Mono',consolas,'Courier New',monospace\"><span style=\"font-weight: bold\"> Total params: </span><span style=\"color: #00af00; text-decoration-color: #00af00\">3,368,385</span> (12.85 MB)\n",
              "</pre>\n"
            ],
            "text/plain": [
              "\u001b[1m Total params: \u001b[0m\u001b[38;5;34m3,368,385\u001b[0m (12.85 MB)\n"
            ]
          },
          "metadata": {},
          "output_type": "display_data"
        },
        {
          "data": {
            "text/html": [
              "<pre style=\"white-space:pre;overflow-x:auto;line-height:normal;font-family:Menlo,'DejaVu Sans Mono',consolas,'Courier New',monospace\"><span style=\"font-weight: bold\"> Trainable params: </span><span style=\"color: #00af00; text-decoration-color: #00af00\">139,521</span> (545.00 KB)\n",
              "</pre>\n"
            ],
            "text/plain": [
              "\u001b[1m Trainable params: \u001b[0m\u001b[38;5;34m139,521\u001b[0m (545.00 KB)\n"
            ]
          },
          "metadata": {},
          "output_type": "display_data"
        },
        {
          "data": {
            "text/html": [
              "<pre style=\"white-space:pre;overflow-x:auto;line-height:normal;font-family:Menlo,'DejaVu Sans Mono',consolas,'Courier New',monospace\"><span style=\"font-weight: bold\"> Non-trainable params: </span><span style=\"color: #00af00; text-decoration-color: #00af00\">3,228,864</span> (12.32 MB)\n",
              "</pre>\n"
            ],
            "text/plain": [
              "\u001b[1m Non-trainable params: \u001b[0m\u001b[38;5;34m3,228,864\u001b[0m (12.32 MB)\n"
            ]
          },
          "metadata": {},
          "output_type": "display_data"
        }
      ],
      "source": [
        "# Define model with MobileNet as backbone\n",
        "with tf.distribute.get_strategy().scope():\n",
        "    base_model_mobilenet = MobileNet(include_top=False, input_shape=(IMG_SIZE[0], IMG_SIZE[1], 3), weights='imagenet')\n",
        "    base_model_mobilenet.trainable = False  \n",
        "\n",
        "    model_mobilenet = Sequential([\n",
        "        base_model_mobilenet,\n",
        "        GlobalAveragePooling2D(),\n",
        "        Dense(128, activation='relu', kernel_regularizer=l2(0.001)),\n",
        "        Dropout(0.4),\n",
        "        Dense(64, activation='relu', kernel_regularizer=l2(0.001)),\n",
        "        Dropout(0.4),\n",
        "        Dense(1, activation='sigmoid')  \n",
        "    ])\n",
        "\n",
        "    model_mobilenet.compile(\n",
        "        optimizer=Adam(learning_rate=0.0001),\n",
        "        loss='binary_crossentropy',\n",
        "        metrics=['accuracy']\n",
        "    )\n",
        "\n",
        "model_mobilenet.summary()"
      ]
    },
    {
      "cell_type": "code",
      "execution_count": 21,
      "metadata": {
        "id": "XDAsuYNU_ESW"
      },
      "outputs": [],
      "source": [
        "\n",
        "# Callbacks\n",
        "early_stopping = EarlyStopping(monitor='val_loss', patience=5, restore_best_weights=True)\n",
        "reduce_lr = ReduceLROnPlateau(monitor='val_loss', factor=0.5, patience=3)\n",
        "\n",
        "EPOCHS = 20"
      ]
    },
    {
      "cell_type": "code",
      "execution_count": 22,
      "metadata": {
        "colab": {
          "base_uri": "https://localhost:8080/"
        },
        "id": "UF3jXglu0-OH",
        "outputId": "c4f8655d-0372-4297-f10c-12a9a707decb"
      },
      "outputs": [
        {
          "name": "stdout",
          "output_type": "stream",
          "text": [
            "Epoch 1/20\n"
          ]
        },
        {
          "name": "stderr",
          "output_type": "stream",
          "text": [
            "/usr/local/lib/python3.11/dist-packages/keras/src/trainers/data_adapters/py_dataset_adapter.py:122: UserWarning: Your `PyDataset` class should call `super().__init__(**kwargs)` in its constructor. `**kwargs` can include `workers`, `use_multiprocessing`, `max_queue_size`. Do not pass these arguments to `fit()`, as they will be ignored.\n",
            "  self._warn_if_super_not_called()\n"
          ]
        },
        {
          "name": "stdout",
          "output_type": "stream",
          "text": [
            "\u001b[1m134/174\u001b[0m \u001b[32m━━━━━━━━━━━━━━━\u001b[0m\u001b[37m━━━━━\u001b[0m \u001b[1m6s\u001b[0m 161ms/step - accuracy: 0.5165 - loss: 1.0338"
          ]
        },
        {
          "name": "stderr",
          "output_type": "stream",
          "text": [
            "/usr/local/lib/python3.11/dist-packages/PIL/Image.py:1045: UserWarning: Palette images with Transparency expressed in bytes should be converted to RGBA images\n",
            "  warnings.warn(\n"
          ]
        },
        {
          "name": "stdout",
          "output_type": "stream",
          "text": [
            "\u001b[1m174/174\u001b[0m \u001b[32m━━━━━━━━━━━━━━━━━━━━\u001b[0m\u001b[37m\u001b[0m \u001b[1m60s\u001b[0m 259ms/step - accuracy: 0.5180 - loss: 1.0185 - val_accuracy: 0.6970 - val_loss: 0.8430 - learning_rate: 1.0000e-04\n",
            "Epoch 2/20\n",
            "\u001b[1m174/174\u001b[0m \u001b[32m━━━━━━━━━━━━━━━━━━━━\u001b[0m\u001b[37m\u001b[0m \u001b[1m63s\u001b[0m 189ms/step - accuracy: 0.5754 - loss: 0.8165 - val_accuracy: 0.6949 - val_loss: 0.7383 - learning_rate: 1.0000e-04\n",
            "Epoch 3/20\n",
            "\u001b[1m174/174\u001b[0m \u001b[32m━━━━━━━━━━━━━━━━━━━━\u001b[0m\u001b[37m\u001b[0m \u001b[1m32s\u001b[0m 181ms/step - accuracy: 0.6566 - loss: 0.7183 - val_accuracy: 0.7172 - val_loss: 0.6917 - learning_rate: 1.0000e-04\n",
            "Epoch 4/20\n",
            "\u001b[1m174/174\u001b[0m \u001b[32m━━━━━━━━━━━━━━━━━━━━\u001b[0m\u001b[37m\u001b[0m \u001b[1m34s\u001b[0m 189ms/step - accuracy: 0.7063 - loss: 0.6444 - val_accuracy: 0.7283 - val_loss: 0.6163 - learning_rate: 1.0000e-04\n",
            "Epoch 5/20\n",
            "\u001b[1m174/174\u001b[0m \u001b[32m━━━━━━━━━━━━━━━━━━━━\u001b[0m\u001b[37m\u001b[0m \u001b[1m40s\u001b[0m 182ms/step - accuracy: 0.7821 - loss: 0.5752 - val_accuracy: 0.7556 - val_loss: 0.5930 - learning_rate: 1.0000e-04\n",
            "Epoch 6/20\n",
            "\u001b[1m174/174\u001b[0m \u001b[32m━━━━━━━━━━━━━━━━━━━━\u001b[0m\u001b[37m\u001b[0m \u001b[1m43s\u001b[0m 195ms/step - accuracy: 0.7956 - loss: 0.5319 - val_accuracy: 0.7677 - val_loss: 0.5655 - learning_rate: 1.0000e-04\n",
            "Epoch 7/20\n",
            "\u001b[1m174/174\u001b[0m \u001b[32m━━━━━━━━━━━━━━━━━━━━\u001b[0m\u001b[37m\u001b[0m \u001b[1m39s\u001b[0m 182ms/step - accuracy: 0.8097 - loss: 0.5042 - val_accuracy: 0.7626 - val_loss: 0.5543 - learning_rate: 1.0000e-04\n",
            "Epoch 8/20\n",
            "\u001b[1m174/174\u001b[0m \u001b[32m━━━━━━━━━━━━━━━━━━━━\u001b[0m\u001b[37m\u001b[0m \u001b[1m38s\u001b[0m 216ms/step - accuracy: 0.8134 - loss: 0.4864 - val_accuracy: 0.7798 - val_loss: 0.5286 - learning_rate: 1.0000e-04\n",
            "Epoch 9/20\n",
            "\u001b[1m174/174\u001b[0m \u001b[32m━━━━━━━━━━━━━━━━━━━━\u001b[0m\u001b[37m\u001b[0m \u001b[1m36s\u001b[0m 186ms/step - accuracy: 0.8318 - loss: 0.4570 - val_accuracy: 0.7727 - val_loss: 0.5290 - learning_rate: 1.0000e-04\n",
            "Epoch 10/20\n",
            "\u001b[1m174/174\u001b[0m \u001b[32m━━━━━━━━━━━━━━━━━━━━\u001b[0m\u001b[37m\u001b[0m \u001b[1m42s\u001b[0m 192ms/step - accuracy: 0.8343 - loss: 0.4519 - val_accuracy: 0.7939 - val_loss: 0.5094 - learning_rate: 1.0000e-04\n",
            "Epoch 11/20\n",
            "\u001b[1m174/174\u001b[0m \u001b[32m━━━━━━━━━━━━━━━━━━━━\u001b[0m\u001b[37m\u001b[0m \u001b[1m33s\u001b[0m 184ms/step - accuracy: 0.8427 - loss: 0.4357 - val_accuracy: 0.7960 - val_loss: 0.5028 - learning_rate: 1.0000e-04\n",
            "Epoch 12/20\n",
            "\u001b[1m174/174\u001b[0m \u001b[32m━━━━━━━━━━━━━━━━━━━━\u001b[0m\u001b[37m\u001b[0m \u001b[1m40s\u001b[0m 182ms/step - accuracy: 0.8415 - loss: 0.4369 - val_accuracy: 0.8000 - val_loss: 0.4919 - learning_rate: 1.0000e-04\n",
            "Epoch 13/20\n",
            "\u001b[1m174/174\u001b[0m \u001b[32m━━━━━━━━━━━━━━━━━━━━\u001b[0m\u001b[37m\u001b[0m \u001b[1m42s\u001b[0m 187ms/step - accuracy: 0.8521 - loss: 0.4122 - val_accuracy: 0.7970 - val_loss: 0.4963 - learning_rate: 1.0000e-04\n",
            "Epoch 14/20\n",
            "\u001b[1m174/174\u001b[0m \u001b[32m━━━━━━━━━━━━━━━━━━━━\u001b[0m\u001b[37m\u001b[0m \u001b[1m34s\u001b[0m 190ms/step - accuracy: 0.8479 - loss: 0.4147 - val_accuracy: 0.8061 - val_loss: 0.4806 - learning_rate: 1.0000e-04\n",
            "Epoch 15/20\n",
            "\u001b[1m174/174\u001b[0m \u001b[32m━━━━━━━━━━━━━━━━━━━━\u001b[0m\u001b[37m\u001b[0m \u001b[1m40s\u001b[0m 183ms/step - accuracy: 0.8601 - loss: 0.4038 - val_accuracy: 0.8101 - val_loss: 0.4782 - learning_rate: 1.0000e-04\n",
            "Epoch 16/20\n",
            "\u001b[1m174/174\u001b[0m \u001b[32m━━━━━━━━━━━━━━━━━━━━\u001b[0m\u001b[37m\u001b[0m \u001b[1m32s\u001b[0m 180ms/step - accuracy: 0.8477 - loss: 0.4123 - val_accuracy: 0.8030 - val_loss: 0.4827 - learning_rate: 1.0000e-04\n",
            "Epoch 17/20\n",
            "\u001b[1m174/174\u001b[0m \u001b[32m━━━━━━━━━━━━━━━━━━━━\u001b[0m\u001b[37m\u001b[0m \u001b[1m39s\u001b[0m 218ms/step - accuracy: 0.8530 - loss: 0.4043 - val_accuracy: 0.8111 - val_loss: 0.4713 - learning_rate: 1.0000e-04\n",
            "Epoch 18/20\n",
            "\u001b[1m174/174\u001b[0m \u001b[32m━━━━━━━━━━━━━━━━━━━━\u001b[0m\u001b[37m\u001b[0m \u001b[1m36s\u001b[0m 188ms/step - accuracy: 0.8536 - loss: 0.4028 - val_accuracy: 0.8101 - val_loss: 0.4755 - learning_rate: 1.0000e-04\n",
            "Epoch 19/20\n",
            "\u001b[1m174/174\u001b[0m \u001b[32m━━━━━━━━━━━━━━━━━━━━\u001b[0m\u001b[37m\u001b[0m \u001b[1m34s\u001b[0m 187ms/step - accuracy: 0.8600 - loss: 0.3813 - val_accuracy: 0.8121 - val_loss: 0.4611 - learning_rate: 1.0000e-04\n",
            "Epoch 20/20\n",
            "\u001b[1m174/174\u001b[0m \u001b[32m━━━━━━━━━━━━━━━━━━━━\u001b[0m\u001b[37m\u001b[0m \u001b[1m41s\u001b[0m 188ms/step - accuracy: 0.8633 - loss: 0.3867 - val_accuracy: 0.8172 - val_loss: 0.4634 - learning_rate: 1.0000e-04\n"
          ]
        },
        {
          "name": "stderr",
          "output_type": "stream",
          "text": [
            "WARNING:absl:You are saving your model as an HDF5 file via `model.save()` or `keras.saving.save_model(model)`. This file format is considered legacy. We recommend using instead the native Keras format, e.g. `model.save('my_model.keras')` or `keras.saving.save_model(model, 'my_model.keras')`. \n"
          ]
        },
        {
          "name": "stdout",
          "output_type": "stream",
          "text": [
            "ResNet50 model saved at /content/saved_models/resnet_model.h5\n"
          ]
        }
      ],
      "source": [
        "#ResNet50 model\n",
        "history_resnet = model_resnet.fit(\n",
        "    train_generator,\n",
        "    epochs=EPOCHS,\n",
        "    validation_data=test_generator,\n",
        "    callbacks=[early_stopping, reduce_lr],\n",
        "    class_weight=class_weights\n",
        ")\n",
        "\n",
        "resnet_model_path = os.path.join(MODEL_SAVE_DIR, 'resnet_model.h5')\n",
        "model_resnet.save(resnet_model_path)\n",
        "print(f\"ResNet50 model saved at {resnet_model_path}\")"
      ]
    },
    {
      "cell_type": "code",
      "execution_count": 31,
      "metadata": {
        "colab": {
          "base_uri": "https://localhost:8080/"
        },
        "id": "LAYrSBaw1CKu",
        "outputId": "8c9993f4-e6f6-40ad-928c-5b9cb3c6dbb8"
      },
      "outputs": [
        {
          "name": "stdout",
          "output_type": "stream",
          "text": [
            "Epoch 1/20\n",
            "\u001b[1m174/174\u001b[0m \u001b[32m━━━━━━━━━━━━━━━━━━━━\u001b[0m\u001b[37m\u001b[0m \u001b[1m31s\u001b[0m 172ms/step - accuracy: 0.9030 - loss: 0.5167 - val_accuracy: 0.9010 - val_loss: 0.5359 - learning_rate: 1.0000e-04\n",
            "Epoch 2/20\n",
            "\u001b[1m174/174\u001b[0m \u001b[32m━━━━━━━━━━━━━━━━━━━━\u001b[0m\u001b[37m\u001b[0m \u001b[1m41s\u001b[0m 172ms/step - accuracy: 0.9187 - loss: 0.4744 - val_accuracy: 0.9061 - val_loss: 0.5022 - learning_rate: 1.0000e-04\n",
            "Epoch 3/20\n",
            "\u001b[1m174/174\u001b[0m \u001b[32m━━━━━━━━━━━━━━━━━━━━\u001b[0m\u001b[37m\u001b[0m \u001b[1m31s\u001b[0m 173ms/step - accuracy: 0.9275 - loss: 0.4428 - val_accuracy: 0.9131 - val_loss: 0.4822 - learning_rate: 1.0000e-04\n",
            "Epoch 4/20\n",
            "\u001b[1m174/174\u001b[0m \u001b[32m━━━━━━━━━━━━━━━━━━━━\u001b[0m\u001b[37m\u001b[0m \u001b[1m40s\u001b[0m 168ms/step - accuracy: 0.9397 - loss: 0.4115 - val_accuracy: 0.9172 - val_loss: 0.4615 - learning_rate: 1.0000e-04\n",
            "Epoch 5/20\n",
            "\u001b[1m174/174\u001b[0m \u001b[32m━━━━━━━━━━━━━━━━━━━━\u001b[0m\u001b[37m\u001b[0m \u001b[1m42s\u001b[0m 175ms/step - accuracy: 0.9501 - loss: 0.3797 - val_accuracy: 0.9202 - val_loss: 0.4484 - learning_rate: 1.0000e-04\n",
            "Epoch 6/20\n",
            "\u001b[1m174/174\u001b[0m \u001b[32m━━━━━━━━━━━━━━━━━━━━\u001b[0m\u001b[37m\u001b[0m \u001b[1m31s\u001b[0m 171ms/step - accuracy: 0.9497 - loss: 0.3591 - val_accuracy: 0.9273 - val_loss: 0.4306 - learning_rate: 1.0000e-04\n",
            "Epoch 7/20\n",
            "\u001b[1m174/174\u001b[0m \u001b[32m━━━━━━━━━━━━━━━━━━━━\u001b[0m\u001b[37m\u001b[0m \u001b[1m41s\u001b[0m 171ms/step - accuracy: 0.9509 - loss: 0.3515 - val_accuracy: 0.9263 - val_loss: 0.4213 - learning_rate: 1.0000e-04\n",
            "Epoch 8/20\n",
            "\u001b[1m174/174\u001b[0m \u001b[32m━━━━━━━━━━━━━━━━━━━━\u001b[0m\u001b[37m\u001b[0m \u001b[1m30s\u001b[0m 169ms/step - accuracy: 0.9619 - loss: 0.3181 - val_accuracy: 0.9242 - val_loss: 0.4074 - learning_rate: 1.0000e-04\n",
            "Epoch 9/20\n",
            "\u001b[1m174/174\u001b[0m \u001b[32m━━━━━━━━━━━━━━━━━━━━\u001b[0m\u001b[37m\u001b[0m \u001b[1m30s\u001b[0m 166ms/step - accuracy: 0.9542 - loss: 0.3214 - val_accuracy: 0.9303 - val_loss: 0.3958 - learning_rate: 1.0000e-04\n",
            "Epoch 10/20\n",
            "\u001b[1m174/174\u001b[0m \u001b[32m━━━━━━━━━━━━━━━━━━━━\u001b[0m\u001b[37m\u001b[0m \u001b[1m31s\u001b[0m 176ms/step - accuracy: 0.9641 - loss: 0.2977 - val_accuracy: 0.9293 - val_loss: 0.3852 - learning_rate: 1.0000e-04\n",
            "Epoch 11/20\n",
            "\u001b[1m174/174\u001b[0m \u001b[32m━━━━━━━━━━━━━━━━━━━━\u001b[0m\u001b[37m\u001b[0m \u001b[1m30s\u001b[0m 168ms/step - accuracy: 0.9687 - loss: 0.2825 - val_accuracy: 0.9273 - val_loss: 0.3760 - learning_rate: 1.0000e-04\n",
            "Epoch 12/20\n",
            "\u001b[1m174/174\u001b[0m \u001b[32m━━━━━━━━━━━━━━━━━━━━\u001b[0m\u001b[37m\u001b[0m \u001b[1m31s\u001b[0m 172ms/step - accuracy: 0.9673 - loss: 0.2742 - val_accuracy: 0.9283 - val_loss: 0.3663 - learning_rate: 1.0000e-04\n",
            "Epoch 13/20\n",
            "\u001b[1m174/174\u001b[0m \u001b[32m━━━━━━━━━━━━━━━━━━━━\u001b[0m\u001b[37m\u001b[0m \u001b[1m41s\u001b[0m 173ms/step - accuracy: 0.9735 - loss: 0.2628 - val_accuracy: 0.9283 - val_loss: 0.3581 - learning_rate: 1.0000e-04\n",
            "Epoch 14/20\n",
            "\u001b[1m174/174\u001b[0m \u001b[32m━━━━━━━━━━━━━━━━━━━━\u001b[0m\u001b[37m\u001b[0m \u001b[1m31s\u001b[0m 169ms/step - accuracy: 0.9735 - loss: 0.2510 - val_accuracy: 0.9343 - val_loss: 0.3582 - learning_rate: 1.0000e-04\n",
            "Epoch 15/20\n",
            "\u001b[1m174/174\u001b[0m \u001b[32m━━━━━━━━━━━━━━━━━━━━\u001b[0m\u001b[37m\u001b[0m \u001b[1m41s\u001b[0m 169ms/step - accuracy: 0.9685 - loss: 0.2509 - val_accuracy: 0.9343 - val_loss: 0.3513 - learning_rate: 1.0000e-04\n",
            "Epoch 16/20\n",
            "\u001b[1m174/174\u001b[0m \u001b[32m━━━━━━━━━━━━━━━━━━━━\u001b[0m\u001b[37m\u001b[0m \u001b[1m30s\u001b[0m 169ms/step - accuracy: 0.9750 - loss: 0.2371 - val_accuracy: 0.9384 - val_loss: 0.3426 - learning_rate: 1.0000e-04\n",
            "Epoch 17/20\n",
            "\u001b[1m174/174\u001b[0m \u001b[32m━━━━━━━━━━━━━━━━━━━━\u001b[0m\u001b[37m\u001b[0m \u001b[1m41s\u001b[0m 167ms/step - accuracy: 0.9744 - loss: 0.2283 - val_accuracy: 0.9424 - val_loss: 0.3327 - learning_rate: 1.0000e-04\n",
            "Epoch 18/20\n",
            "\u001b[1m174/174\u001b[0m \u001b[32m━━━━━━━━━━━━━━━━━━━━\u001b[0m\u001b[37m\u001b[0m \u001b[1m32s\u001b[0m 179ms/step - accuracy: 0.9738 - loss: 0.2243 - val_accuracy: 0.9343 - val_loss: 0.3383 - learning_rate: 1.0000e-04\n",
            "Epoch 19/20\n",
            "\u001b[1m174/174\u001b[0m \u001b[32m━━━━━━━━━━━━━━━━━━━━\u001b[0m\u001b[37m\u001b[0m \u001b[1m30s\u001b[0m 167ms/step - accuracy: 0.9782 - loss: 0.2135 - val_accuracy: 0.9364 - val_loss: 0.3341 - learning_rate: 1.0000e-04\n",
            "Epoch 20/20\n",
            "\u001b[1m174/174\u001b[0m \u001b[32m━━━━━━━━━━━━━━━━━━━━\u001b[0m\u001b[37m\u001b[0m \u001b[1m42s\u001b[0m 170ms/step - accuracy: 0.9750 - loss: 0.2131 - val_accuracy: 0.9384 - val_loss: 0.3219 - learning_rate: 1.0000e-04\n"
          ]
        },
        {
          "name": "stderr",
          "output_type": "stream",
          "text": [
            "WARNING:absl:You are saving your model as an HDF5 file via `model.save()` or `keras.saving.save_model(model)`. This file format is considered legacy. We recommend using instead the native Keras format, e.g. `model.save('my_model.keras')` or `keras.saving.save_model(model, 'my_model.keras')`. \n"
          ]
        },
        {
          "name": "stdout",
          "output_type": "stream",
          "text": [
            "MobileNet model saved at /content/saved_models/mobilenet_model.h5\n"
          ]
        }
      ],
      "source": [
        "# MobileNet model\n",
        "history_mobilenet = model_mobilenet.fit(\n",
        "    train_generator,\n",
        "    epochs=EPOCHS,\n",
        "    validation_data=test_generator,\n",
        "    callbacks=[early_stopping, reduce_lr],\n",
        "    class_weight=class_weights\n",
        ")\n",
        "\n",
        "mobilenet_model_path = os.path.join(MODEL_SAVE_DIR, 'mobilenet_model.h5')\n",
        "model_mobilenet.save(mobilenet_model_path)\n",
        "print(f\"MobileNet model saved at {mobilenet_model_path}\")"
      ]
    },
    {
      "cell_type": "code",
      "execution_count": 32,
      "metadata": {
        "colab": {
          "base_uri": "https://localhost:8080/"
        },
        "id": "g9kO3HI2_GcC",
        "outputId": "fd8ba0c5-c0f3-455f-8051-2247eaa11b0f"
      },
      "outputs": [
        {
          "name": "stdout",
          "output_type": "stream",
          "text": [
            "\u001b[1m31/31\u001b[0m \u001b[32m━━━━━━━━━━━━━━━━━━━━\u001b[0m\u001b[37m\u001b[0m \u001b[1m9s\u001b[0m 302ms/step\n",
            "\n",
            "ResNet50 Classification Report:\n",
            "               precision    recall  f1-score   support\n",
            "\n",
            "           0       0.71      0.76      0.73       709\n",
            "           1       0.26      0.21      0.23       281\n",
            "\n",
            "    accuracy                           0.60       990\n",
            "   macro avg       0.48      0.49      0.48       990\n",
            "weighted avg       0.58      0.60      0.59       990\n",
            "\n",
            "ResNet50 ROC-AUC Score: 0.4953\n"
          ]
        }
      ],
      "source": [
        "# Evaluate ResNet50 model\n",
        "y_pred_prob_resnet = model_resnet.predict(test_generator)\n",
        "y_pred_resnet = (y_pred_prob_resnet > 0.5).astype('int32')\n",
        "print(\"\\nResNet50 Classification Report:\\n\", classification_report(test_generator.classes, y_pred_resnet))\n",
        "roc_auc_resnet = roc_auc_score(test_generator.classes, y_pred_prob_resnet)\n",
        "print(f\"ResNet50 ROC-AUC Score: {roc_auc_resnet:.4f}\")"
      ]
    },
    {
      "cell_type": "code",
      "execution_count": 33,
      "metadata": {
        "colab": {
          "base_uri": "https://localhost:8080/"
        },
        "id": "i0xBEjHr1Iq-",
        "outputId": "17c230cc-30e9-439d-f6af-b2be280c554e"
      },
      "outputs": [
        {
          "name": "stdout",
          "output_type": "stream",
          "text": [
            "\u001b[1m31/31\u001b[0m \u001b[32m━━━━━━━━━━━━━━━━━━━━\u001b[0m\u001b[37m\u001b[0m \u001b[1m10s\u001b[0m 304ms/step\n",
            "\n",
            "MobileNet Classification Report:\n",
            "               precision    recall  f1-score   support\n",
            "\n",
            "           0       0.73      0.75      0.74       709\n",
            "           1       0.33      0.31      0.32       281\n",
            "\n",
            "    accuracy                           0.63       990\n",
            "   macro avg       0.53      0.53      0.53       990\n",
            "weighted avg       0.62      0.63      0.62       990\n",
            "\n",
            "MobileNet ROC-AUC Score: 0.5081\n"
          ]
        }
      ],
      "source": [
        "# Evaluate MobileNet model\n",
        "y_pred_prob_mobilenet = model_mobilenet.predict(test_generator)\n",
        "y_pred_mobilenet = (y_pred_prob_mobilenet > 0.5).astype('int32')\n",
        "print(\"\\nMobileNet Classification Report:\\n\", classification_report(test_generator.classes, y_pred_mobilenet))\n",
        "roc_auc_mobilenet = roc_auc_score(test_generator.classes, y_pred_prob_mobilenet)\n",
        "print(f\"MobileNet ROC-AUC Score: {roc_auc_mobilenet:.4f}\")"
      ]
    },
    {
      "cell_type": "code",
      "execution_count": 36,
      "metadata": {
        "colab": {
          "base_uri": "https://localhost:8080/"
        },
        "id": "2GcvPaDx1QKr",
        "outputId": "a5e72489-2cbf-411b-d38f-2142f5b0a539"
      },
      "outputs": [
        {
          "name": "stdout",
          "output_type": "stream",
          "text": [
            "ResNet50 Prediction: 0.2641\n",
            "MobileNet Prediction: 0.5653\n"
          ]
        }
      ],
      "source": [
        "print(f\"ResNet50 Prediction: {resnet_prediction[0][0]:.4f}\")\n",
        "print(f\"MobileNet Prediction: {mobilenet_prediction[0][0]:.4f}\")"
      ]
    },
    {
      "cell_type": "code",
      "execution_count": 37,
      "metadata": {
        "colab": {
          "base_uri": "https://localhost:8080/"
        },
        "id": "BdujPu6X_Ie_",
        "outputId": "74b780e4-db4b-45ec-df28-5d10e61e048c"
      },
      "outputs": [
        {
          "name": "stderr",
          "output_type": "stream",
          "text": [
            "WARNING:absl:You are saving your model as an HDF5 file via `model.save()` or `keras.saving.save_model(model)`. This file format is considered legacy. We recommend using instead the native Keras format, e.g. `model.save('my_model.keras')` or `keras.saving.save_model(model, 'my_model.keras')`. \n"
          ]
        },
        {
          "name": "stdout",
          "output_type": "stream",
          "text": [
            "Best model: MobileNet\n"
          ]
        }
      ],
      "source": [
        "# Select best-performing model and save\n",
        "if roc_auc_resnet > roc_auc_mobilenet:\n",
        "    best_model = model_resnet\n",
        "    print(\"Best model: ResNet50\")\n",
        "else:\n",
        "    best_model = model_mobilenet\n",
        "    print(\"Best model: MobileNet\")\n",
        "\n",
        "best_model.save(\"/content/best_model.h5\")"
      ]
    },
    {
      "cell_type": "code",
      "execution_count": 38,
      "metadata": {
        "id": "Qu2DvoNw8nvx"
      },
      "outputs": [],
      "source": [
        "# def build_model(hp):\n",
        "#     with tf.distribute.get_strategy().scope():\n",
        "#         base_model = ResNet50(include_top=False, input_shape=(IMG_SIZE[0], IMG_SIZE[1], 3), weights='imagenet')\n",
        "#         base_model.trainable = False\n",
        "\n",
        "#         model = Sequential([\n",
        "#             base_model,\n",
        "#             GlobalAveragePooling2D(),\n",
        "#             Dense(hp.Int('units_1', min_value=64, max_value=256, step=64), activation='relu', kernel_regularizer=l2(0.001)),\n",
        "#             Dropout(hp.Float('dropout_1', min_value=0.2, max_value=0.5, step=0.1)),\n",
        "#             Dense(hp.Int('units_2', min_value=32, max_value=128, step=32), activation='relu', kernel_regularizer=l2(0.001)),\n",
        "#             Dropout(hp.Float('dropout_2', min_value=0.2, max_value=0.5, step=0.1)),\n",
        "#             Dense(1, activation='sigmoid')\n",
        "#         ])\n",
        "\n",
        "#         model.compile(\n",
        "#             optimizer=Adam(hp.Choice('learning_rate', values=[1e-2, 1e-3, 1e-4])),\n",
        "#             loss='binary_crossentropy',\n",
        "#             metrics=['accuracy']\n",
        "#         )\n",
        "#     return model"
      ]
    },
    {
      "cell_type": "code",
      "execution_count": null,
      "metadata": {
        "id": "OIqYqQ7H8oZX"
      },
      "outputs": [],
      "source": [
        "# tuner = Hyperband(\n",
        "#     build_model,\n",
        "#     objective='val_accuracy',\n",
        "#     max_epochs=10,\n",
        "#     directory='/content/hyperparameter_tuning',\n",
        "#     project_name='transaction_classification'\n",
        "# )\n",
        "\n",
        "# tuner.search(\n",
        "#     train_generator,\n",
        "#     validation_data=test_generator,\n",
        "#     epochs=10,\n",
        "#     callbacks=[early_stopping]\n",
        "# )\n",
        "\n",
        "# best_hyperparameters = tuner.get_best_hyperparameters(num_trials=1)[0]\n",
        "# best_hypermodel = tuner.hypermodel.build(best_hyperparameters)\n",
        "# best_hypermodel.summary()\n",
        "\n",
        "# # Save the tuned model\n",
        "# best_hypermodel.save(\"/content/best_hypermodel.h5\")"
      ]
    },
    {
      "cell_type": "code",
      "execution_count": 40,
      "metadata": {
        "colab": {
          "base_uri": "https://localhost:8080/",
          "height": 1000,
          "referenced_widgets": [
            "ecb9f21e09184182a590bc3dd383f0ff",
            "6be525dd473b48a8964747a56cd39213",
            "766977a9fbd343378234147f85621a31"
          ]
        },
        "id": "vsbQ8W_7yqqV",
        "outputId": "6dae8120-3ee7-4d2e-ca02-0a55b6cacf5a"
      },
      "outputs": [
        {
          "name": "stderr",
          "output_type": "stream",
          "text": [
            "WARNING:absl:Compiled the loaded model, but the compiled metrics have yet to be built. `model.compile_metrics` will be empty until you train or evaluate the model.\n"
          ]
        },
        {
          "data": {
            "text/html": [
              "\n",
              "    <style>\n",
              "        .prediction-box {\n",
              "            padding: 20px;\n",
              "            margin: 10px 0;\n",
              "            border-radius: 8px;\n",
              "            font-family: Arial, sans-serif;\n",
              "        }\n",
              "        .prediction-yes {\n",
              "            background-color: #d4edda;\n",
              "            border: 1px solid #c3e6cb;\n",
              "            color: #155724;\n",
              "        }\n",
              "        .prediction-no {\n",
              "            background-color: #f8d7da;\n",
              "            border: 1px solid #f5c6cb;\n",
              "            color: #721c24;\n",
              "        }\n",
              "    </style>\n",
              "    "
            ],
            "text/plain": [
              "<IPython.core.display.HTML object>"
            ]
          },
          "metadata": {},
          "output_type": "display_data"
        },
        {
          "name": "stdout",
          "output_type": "stream",
          "text": [
            "Upload an image to check if it contains a transaction\n"
          ]
        },
        {
          "data": {
            "application/vnd.jupyter.widget-view+json": {
              "model_id": "ecb9f21e09184182a590bc3dd383f0ff",
              "version_major": 2,
              "version_minor": 0
            },
            "text/plain": [
              "FileUpload(value={}, accept='image/*', description='Upload Image', layout=Layout(width='300px'))"
            ]
          },
          "metadata": {},
          "output_type": "display_data"
        },
        {
          "name": "stdout",
          "output_type": "stream",
          "text": [
            "\u001b[1m1/1\u001b[0m \u001b[32m━━━━━━━━━━━━━━━━━━━━\u001b[0m\u001b[37m\u001b[0m \u001b[1m1s\u001b[0m 1s/step\n"
          ]
        },
        {
          "data": {
            "image/jpeg": "[encoded data removed]",
            "text/plain": [
              "<IPython.core.display.Image object>"
            ]
          },
          "metadata": {
            "image/jpeg": {
              "width": 300
            }
          },
          "output_type": "display_data"
        },
        {
          "data": {
            "text/html": [
              "\n",
              "        <div class=\"prediction-box prediction-no\">\n",
              "            <h3>Prediction Results:</h3>\n",
              "            <p>This image no contains a transaction.</p>\n",
              "            <p>Confidence: 99.96%</p>\n",
              "        </div>\n",
              "        "
            ],
            "text/plain": [
              "<IPython.core.display.HTML object>"
            ]
          },
          "metadata": {},
          "output_type": "display_data"
        },
        {
          "name": "stdout",
          "output_type": "stream",
          "text": [
            "\u001b[1m1/1\u001b[0m \u001b[32m━━━━━━━━━━━━━━━━━━━━\u001b[0m\u001b[37m\u001b[0m \u001b[1m0s\u001b[0m 18ms/step\n"
          ]
        },
        {
          "data": {
            "image/jpeg": "[encoded data removed]",
            "text/plain": [
              "<IPython.core.display.Image object>"
            ]
          },
          "metadata": {
            "image/jpeg": {
              "width": 300
            }
          },
          "output_type": "display_data"
        },
        {
          "data": {
            "text/html": [
              "\n",
              "        <div class=\"prediction-box prediction-no\">\n",
              "            <h3>Prediction Results:</h3>\n",
              "            <p>This image no contains a transaction.</p>\n",
              "            <p>Confidence: 99.96%</p>\n",
              "        </div>\n",
              "        "
            ],
            "text/plain": [
              "<IPython.core.display.HTML object>"
            ]
          },
          "metadata": {},
          "output_type": "display_data"
        }
      ],
      "source": [
        "from google.colab import files\n",
        "from IPython.display import display, Image, HTML\n",
        "import ipywidgets as widgets\n",
        "import io\n",
        "import numpy as np\n",
        "from PIL import Image as PILImage\n",
        "\n",
        "def create_prediction_interface():\n",
        "    model = tf.keras.models.load_model(\"/content/best_model.h5\")\n",
        "\n",
        "    style = \"\"\"\n",
        "    <style>\n",
        "        .prediction-box {\n",
        "            padding: 20px;\n",
        "            margin: 10px 0;\n",
        "            border-radius: 8px;\n",
        "            font-family: Arial, sans-serif;\n",
        "        }\n",
        "        .prediction-yes {\n",
        "            background-color: #d4edda;\n",
        "            border: 1px solid #c3e6cb;\n",
        "            color: #155724;\n",
        "        }\n",
        "        .prediction-no {\n",
        "            background-color: #f8d7da;\n",
        "            border: 1px solid #f5c6cb;\n",
        "            color: #721c24;\n",
        "        }\n",
        "    </style>\n",
        "    \"\"\"\n",
        "\n",
        "    display(HTML(style))\n",
        "\n",
        "    def predict_image(file):\n",
        "        img = PILImage.open(file).convert('RGB')\n",
        "        img = img.resize((128, 128))\n",
        "        img_array = np.expand_dims(np.array(img) / 255.0, axis=0)\n",
        "\n",
        "        prediction = model.predict(img_array)[0][0]\n",
        "\n",
        "        display(Image(data=file.getvalue(), width=300))\n",
        "\n",
        "        prediction_class = \"Yes\" if prediction > 0.5 else \"No\"\n",
        "        confidence = prediction if prediction > 0.5 else 1 - prediction\n",
        "\n",
        "        style_class = \"prediction-yes\" if prediction > 0.5 else \"prediction-no\"\n",
        "\n",
        "        prediction_html = f\"\"\"\n",
        "        <div class=\"prediction-box {style_class}\">\n",
        "            <h3>Prediction Results:</h3>\n",
        "            <p>This image {prediction_class.lower()} contains a transaction.</p>\n",
        "            <p>Confidence: {confidence * 100:.2f}%</p>\n",
        "        </div>\n",
        "        \"\"\"\n",
        "        display(HTML(prediction_html))\n",
        "\n",
        "    upload_button = widgets.FileUpload(\n",
        "        accept='image/*',\n",
        "        description='Upload Image',\n",
        "        layout=widgets.Layout(width='300px')\n",
        "    )\n",
        "\n",
        "    def on_upload_change(change):\n",
        "        if change['type'] == 'change' and change['new']:\n",
        "\n",
        "            file = io.BytesIO(list(change['new'].values())[0]['content'])\n",
        "            predict_image(file)\n",
        "            upload_button.value.clear()\n",
        "            upload_button._counter = 0\n",
        "\n",
        "    upload_button.observe(on_upload_change, names='value')\n",
        "\n",
        "    print(\"Upload an image to check if it contains a transaction\")\n",
        "    display(upload_button)\n",
        "\n",
        "\n",
        "create_prediction_interface()"
      ]
    },
    {
      "cell_type": "code",
      "execution_count": 29,
      "metadata": {
        "id": "twA375L9yuAQ"
      },
      "outputs": [],
      "source": []
    }
  ],
  "metadata": {
    "accelerator": "GPU",
    "colab": {
      "gpuType": "T4",
      "provenance": []
    },
    "kernelspec": {
      "display_name": "Python 3",
      "name": "python3"
    },
    "language_info": {
      "name": "python"
    },
    "widgets": {
      "application/vnd.jupyter.widget-state+json": {
        "6be525dd473b48a8964747a56cd39213": {
          "model_module": "@jupyter-widgets/base",
          "model_module_version": "1.2.0",
          "model_name": "LayoutModel",
          "state": {
            "_model_module": "@jupyter-widgets/base",
            "_model_module_version": "1.2.0",
            "_model_name": "LayoutModel",
            "_view_count": null,
            "_view_module": "@jupyter-widgets/base",
            "_view_module_version": "1.2.0",
            "_view_name": "LayoutView",
            "align_content": null,
            "align_items": null,
            "align_self": null,
            "border": null,
            "bottom": null,
            "display": null,
            "flex": null,
            "flex_flow": null,
            "grid_area": null,
            "grid_auto_columns": null,
            "grid_auto_flow": null,
            "grid_auto_rows": null,
            "grid_column": null,
            "grid_gap": null,
            "grid_row": null,
            "grid_template_areas": null,
            "grid_template_columns": null,
            "grid_template_rows": null,
            "height": null,
            "justify_content": null,
            "justify_items": null,
            "left": null,
            "margin": null,
            "max_height": null,
            "max_width": null,
            "min_height": null,
            "min_width": null,
            "object_fit": null,
            "object_position": null,
            "order": null,
            "overflow": null,
            "overflow_x": null,
            "overflow_y": null,
            "padding": null,
            "right": null,
            "top": null,
            "visibility": null,
            "width": "300px"
          }
        },
        "766977a9fbd343378234147f85621a31": {
          "model_module": "@jupyter-widgets/controls",
          "model_module_version": "1.5.0",
          "model_name": "ButtonStyleModel",
          "state": {
            "_model_module": "@jupyter-widgets/controls",
            "_model_module_version": "1.5.0",
            "_model_name": "ButtonStyleModel",
            "_view_count": null,
            "_view_module": "@jupyter-widgets/base",
            "_view_module_version": "1.2.0",
            "_view_name": "StyleView",
            "button_color": null,
            "font_weight": ""
          }
        },
        "ecb9f21e09184182a590bc3dd383f0ff": {
          "model_module": "@jupyter-widgets/controls",
          "model_module_version": "1.5.0",
          "model_name": "FileUploadModel",
          "state": {
            "_counter": 0,
            "_dom_classes": [],
            "_model_module": "@jupyter-widgets/controls",
            "_model_module_version": "1.5.0",
            "_model_name": "FileUploadModel",
            "_view_count": null,
            "_view_module": "@jupyter-widgets/controls",
            "_view_module_version": "1.5.0",
            "_view_name": "FileUploadView",
            "accept": "image/*",
            "button_style": "",
            "data": [
              null
            ],
            "description": "Upload Image",
            "description_tooltip": null,
            "disabled": false,
            "error": "",
            "icon": "upload",
            "layout": "IPY_MODEL_6be525dd473b48a8964747a56cd39213",
            "metadata": [
              {
                "lastModified": 1727962578000,
                "name": "0ab58ddb41b08847c9846b0140323b1b.jpg",
                "size": 71125,
                "type": "image/jpeg"
              }
            ],
            "multiple": false,
            "style": "IPY_MODEL_766977a9fbd343378234147f85621a31"
          }
        }
      }
    }
  },
  "nbformat": 4,
  "nbformat_minor": 0
}
